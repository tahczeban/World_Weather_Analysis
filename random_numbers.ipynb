{
 "cells": [
  {
   "cell_type": "code",
   "execution_count": 29,
   "id": "37044548",
   "metadata": {},
   "outputs": [],
   "source": [
    "# Import the random module.\n",
    "import random   "
   ]
  },
  {
   "cell_type": "code",
   "execution_count": 30,
   "id": "adb823e2",
   "metadata": {},
   "outputs": [
    {
     "data": {
      "text/plain": [
       "14"
      ]
     },
     "execution_count": 30,
     "metadata": {},
     "output_type": "execute_result"
    }
   ],
   "source": [
    "random.randint(-90, 90)"
   ]
  },
  {
   "cell_type": "code",
   "execution_count": 31,
   "id": "1b087a82",
   "metadata": {},
   "outputs": [
    {
     "data": {
      "text/plain": [
       "0.10040410262448318"
      ]
     },
     "execution_count": 31,
     "metadata": {},
     "output_type": "execute_result"
    }
   ],
   "source": [
    "random.random()"
   ]
  },
  {
   "cell_type": "code",
   "execution_count": 32,
   "id": "ee7c67eb",
   "metadata": {},
   "outputs": [],
   "source": [
    "#set var to 1, empty lat list, loop with random lat, add 1 to var x\n",
    "#will run if x<1\n",
    "x = 1\n",
    "latitudes = []\n",
    "while x < 11:\n",
    "    random_lat = random.randint(-90, 89) + random.random()\n",
    "    latitudes.append(random_lat)\n",
    "    x += 1"
   ]
  },
  {
   "cell_type": "code",
   "execution_count": 33,
   "id": "14e836ef",
   "metadata": {},
   "outputs": [
    {
     "data": {
      "text/plain": [
       "-69"
      ]
     },
     "execution_count": 33,
     "metadata": {},
     "output_type": "execute_result"
    }
   ],
   "source": [
    "#rang 90-90, step=diffc bw ea #, no step=default to 1\n",
    "random.randrange(-90, 90, step=1)"
   ]
  },
  {
   "cell_type": "code",
   "execution_count": 34,
   "id": "d13cb3d8",
   "metadata": {},
   "outputs": [
    {
     "data": {
      "text/plain": [
       "-87"
      ]
     },
     "execution_count": 34,
     "metadata": {},
     "output_type": "execute_result"
    }
   ],
   "source": [
    "random.randrange(-90, 90, step=3)"
   ]
  },
  {
   "cell_type": "code",
   "execution_count": 35,
   "id": "d25b06bc",
   "metadata": {},
   "outputs": [
    {
     "data": {
      "text/plain": [
       "-89.23790069410586"
      ]
     },
     "execution_count": 35,
     "metadata": {},
     "output_type": "execute_result"
    }
   ],
   "source": [
    "random.uniform(-90, 90)"
   ]
  },
  {
   "cell_type": "code",
   "execution_count": 36,
   "id": "8978ea32",
   "metadata": {},
   "outputs": [],
   "source": [
    "# Import the NumPy module.\n",
    "import numpy as np"
   ]
  },
  {
   "cell_type": "code",
   "execution_count": 37,
   "id": "a97a7c2b",
   "metadata": {},
   "outputs": [
    {
     "data": {
      "text/plain": [
       "28.3790841236129"
      ]
     },
     "execution_count": 37,
     "metadata": {},
     "output_type": "execute_result"
    }
   ],
   "source": [
    "np.random.uniform(-90.000, 90.000)"
   ]
  },
  {
   "cell_type": "code",
   "execution_count": 38,
   "id": "77733bc0",
   "metadata": {},
   "outputs": [
    {
     "data": {
      "text/plain": [
       "85.278944168836"
      ]
     },
     "execution_count": 38,
     "metadata": {},
     "output_type": "execute_result"
    }
   ],
   "source": [
    "#same as above\n",
    "np.random.uniform(low=-90, high=90)"
   ]
  },
  {
   "cell_type": "code",
   "execution_count": 39,
   "id": "a7da990f",
   "metadata": {},
   "outputs": [
    {
     "data": {
      "text/plain": [
       "array([-17.0711987 ,   0.36841928, -38.09955404,  20.65081557,\n",
       "       -21.35600682, -17.38013511,   1.13896529,  34.26605693,\n",
       "       -86.0127059 ,  22.86564016, -81.53638744, -24.11344057,\n",
       "        22.78809655, -75.33015069,   7.01845298, -58.29685765,\n",
       "       -29.66427755,  -4.98968706, -15.23497825,  52.41981991,\n",
       "        19.82685393,   1.74453515, -14.18851696,  85.70216134,\n",
       "        32.55627695, -71.78975685,  16.76652849, -45.97475418,\n",
       "       -20.77470786,  56.78615957,  47.90007887, -49.92716618,\n",
       "       -15.15520274,  27.7243565 , -43.92636412, -74.177241  ,\n",
       "       -74.35565431,  64.78628088,  -2.1742999 , -69.78816902,\n",
       "       -63.76236089, -66.87529565,  13.45633641, -71.66163856,\n",
       "        29.7933782 ,  40.81423288, -28.34749195,  75.56573059,\n",
       "        69.85836773, -26.7260684 ])"
      ]
     },
     "execution_count": 39,
     "metadata": {},
     "output_type": "execute_result"
    }
   ],
   "source": [
    "#size=50 gives 50 random#\n",
    "np.random.uniform(-90.000, 90.000, size=50)"
   ]
  },
  {
   "cell_type": "code",
   "execution_count": 40,
   "id": "bb98602e",
   "metadata": {},
   "outputs": [],
   "source": [
    "# Import timeit.\n",
    "import timeit\n"
   ]
  },
  {
   "cell_type": "code",
   "execution_count": 45,
   "id": "cef16bab",
   "metadata": {},
   "outputs": [
    {
     "name": "stdout",
     "output_type": "stream",
     "text": [
      "19.8 µs ± 471 ns per loop (mean ± std. dev. of 7 runs, 10000 loops each)\n"
     ]
    }
   ],
   "source": [
    "#time to run loop 1500#\n",
    "%timeit np.random.uniform(-90.000, 90.000, size=1500)"
   ]
  },
  {
   "cell_type": "code",
   "execution_count": 44,
   "id": "f7150c84",
   "metadata": {},
   "outputs": [
    {
     "name": "stdout",
     "output_type": "stream",
     "text": [
      "1.15 ms ± 1.32 µs per loop (mean ± std. dev. of 7 runs, 1000 loops each)\n"
     ]
    }
   ],
   "source": [
    "#While loop=slower\n",
    "def latitudes(size):\n",
    "    latitudes = []\n",
    "    x = 0\n",
    "    while x < (size):\n",
    "        random_lat = random.randint(-90, 90) + random.random()\n",
    "        latitudes.append(random_lat)\n",
    "        x += 1\n",
    "    return latitudes\n",
    "# Call the function with 1500.\n",
    "%timeit latitudes(1500)"
   ]
  },
  {
   "cell_type": "code",
   "execution_count": null,
   "id": "97485dc1",
   "metadata": {},
   "outputs": [],
   "source": []
  }
 ],
 "metadata": {
  "kernelspec": {
   "display_name": "PythonData",
   "language": "python",
   "name": "pythondata"
  },
  "language_info": {
   "codemirror_mode": {
    "name": "ipython",
    "version": 3
   },
   "file_extension": ".py",
   "mimetype": "text/x-python",
   "name": "python",
   "nbconvert_exporter": "python",
   "pygments_lexer": "ipython3",
   "version": "3.8.8"
  }
 },
 "nbformat": 4,
 "nbformat_minor": 5
}
