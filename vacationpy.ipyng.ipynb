{
 "cells": [
  {
   "cell_type": "code",
   "execution_count": 4,
   "id": "8ac2d422",
   "metadata": {},
   "outputs": [],
   "source": [
    "# Import the dependencies.\n",
    "import pandas as pd\n",
    "import gmaps\n",
    "import requests\n",
    "# Import the API key.\n",
    "from config import g_key"
   ]
  },
  {
   "cell_type": "code",
   "execution_count": 8,
   "id": "2134caa0",
   "metadata": {},
   "outputs": [
    {
     "data": {
      "text/html": [
       "<div>\n",
       "<style scoped>\n",
       "    .dataframe tbody tr th:only-of-type {\n",
       "        vertical-align: middle;\n",
       "    }\n",
       "\n",
       "    .dataframe tbody tr th {\n",
       "        vertical-align: top;\n",
       "    }\n",
       "\n",
       "    .dataframe thead th {\n",
       "        text-align: right;\n",
       "    }\n",
       "</style>\n",
       "<table border=\"1\" class=\"dataframe\">\n",
       "  <thead>\n",
       "    <tr style=\"text-align: right;\">\n",
       "      <th></th>\n",
       "      <th>City_ID</th>\n",
       "      <th>City</th>\n",
       "      <th>Country</th>\n",
       "      <th>Date</th>\n",
       "      <th>Lat</th>\n",
       "      <th>Lng</th>\n",
       "      <th>Max Temp</th>\n",
       "      <th>Humidity</th>\n",
       "      <th>Cloudiness</th>\n",
       "      <th>Wind Speed</th>\n",
       "    </tr>\n",
       "  </thead>\n",
       "  <tbody>\n",
       "    <tr>\n",
       "      <th>0</th>\n",
       "      <td>0</td>\n",
       "      <td>Saskylakh</td>\n",
       "      <td>RU</td>\n",
       "      <td>2021-12-03 00:16:06</td>\n",
       "      <td>71.9167</td>\n",
       "      <td>114.0833</td>\n",
       "      <td>-44.52</td>\n",
       "      <td>100</td>\n",
       "      <td>62</td>\n",
       "      <td>4.68</td>\n",
       "    </tr>\n",
       "    <tr>\n",
       "      <th>1</th>\n",
       "      <td>1</td>\n",
       "      <td>Carnarvon</td>\n",
       "      <td>AU</td>\n",
       "      <td>2021-12-03 00:16:07</td>\n",
       "      <td>-24.8667</td>\n",
       "      <td>113.6333</td>\n",
       "      <td>73.47</td>\n",
       "      <td>68</td>\n",
       "      <td>90</td>\n",
       "      <td>23.02</td>\n",
       "    </tr>\n",
       "    <tr>\n",
       "      <th>2</th>\n",
       "      <td>2</td>\n",
       "      <td>Gamba</td>\n",
       "      <td>GA</td>\n",
       "      <td>2021-12-03 00:16:07</td>\n",
       "      <td>-2.6500</td>\n",
       "      <td>10.0000</td>\n",
       "      <td>77.29</td>\n",
       "      <td>86</td>\n",
       "      <td>100</td>\n",
       "      <td>3.00</td>\n",
       "    </tr>\n",
       "    <tr>\n",
       "      <th>3</th>\n",
       "      <td>3</td>\n",
       "      <td>Lamu</td>\n",
       "      <td>KE</td>\n",
       "      <td>2021-12-03 00:14:26</td>\n",
       "      <td>-2.2717</td>\n",
       "      <td>40.9020</td>\n",
       "      <td>80.82</td>\n",
       "      <td>81</td>\n",
       "      <td>21</td>\n",
       "      <td>7.54</td>\n",
       "    </tr>\n",
       "    <tr>\n",
       "      <th>4</th>\n",
       "      <td>4</td>\n",
       "      <td>Namatanai</td>\n",
       "      <td>PG</td>\n",
       "      <td>2021-12-03 00:16:08</td>\n",
       "      <td>-3.6667</td>\n",
       "      <td>152.4333</td>\n",
       "      <td>84.33</td>\n",
       "      <td>71</td>\n",
       "      <td>93</td>\n",
       "      <td>4.88</td>\n",
       "    </tr>\n",
       "  </tbody>\n",
       "</table>\n",
       "</div>"
      ],
      "text/plain": [
       "   City_ID       City Country                 Date      Lat       Lng  \\\n",
       "0        0  Saskylakh      RU  2021-12-03 00:16:06  71.9167  114.0833   \n",
       "1        1  Carnarvon      AU  2021-12-03 00:16:07 -24.8667  113.6333   \n",
       "2        2      Gamba      GA  2021-12-03 00:16:07  -2.6500   10.0000   \n",
       "3        3       Lamu      KE  2021-12-03 00:14:26  -2.2717   40.9020   \n",
       "4        4  Namatanai      PG  2021-12-03 00:16:08  -3.6667  152.4333   \n",
       "\n",
       "   Max Temp  Humidity  Cloudiness  Wind Speed  \n",
       "0    -44.52       100          62        4.68  \n",
       "1     73.47        68          90       23.02  \n",
       "2     77.29        86         100        3.00  \n",
       "3     80.82        81          21        7.54  \n",
       "4     84.33        71          93        4.88  "
      ]
     },
     "execution_count": 8,
     "metadata": {},
     "output_type": "execute_result"
    }
   ],
   "source": [
    "# Store the CSV you saved created in part one into a DataFrame.\n",
    "city_data_df = pd.read_csv(\"weather_data/cities.csv\")\n",
    "city_data_df.head()"
   ]
  },
  {
   "cell_type": "code",
   "execution_count": 9,
   "id": "d5990528",
   "metadata": {},
   "outputs": [],
   "source": [
    "# Configure gmaps to use your Google API key.\n",
    "gmaps.configure(api_key=g_key)"
   ]
  },
  {
   "cell_type": "code",
   "execution_count": 10,
   "id": "54e4da1c",
   "metadata": {},
   "outputs": [
    {
     "data": {
      "text/plain": [
       "City_ID         int64\n",
       "City           object\n",
       "Country        object\n",
       "Date           object\n",
       "Lat           float64\n",
       "Lng           float64\n",
       "Max Temp      float64\n",
       "Humidity        int64\n",
       "Cloudiness      int64\n",
       "Wind Speed    float64\n",
       "dtype: object"
      ]
     },
     "execution_count": 10,
     "metadata": {},
     "output_type": "execute_result"
    }
   ],
   "source": [
    "#Get the data types\n",
    "city_data_df.dtypes\n"
   ]
  },
  {
   "cell_type": "code",
   "execution_count": 11,
   "id": "9a31bfb2",
   "metadata": {},
   "outputs": [],
   "source": [
    "# Get the maximum temperature.\n",
    "max_temp = city_data_df[\"Max Temp\"]\n",
    "temps = []\n",
    "for temp in max_temp:\n",
    "    temps.append(max(temp, 0))\n"
   ]
  },
  {
   "cell_type": "code",
   "execution_count": 12,
   "id": "494a7396",
   "metadata": {},
   "outputs": [
    {
     "data": {
      "application/vnd.jupyter.widget-view+json": {
       "model_id": "db9c58003e4b485ca6fc2e3c0af5e245",
       "version_major": 2,
       "version_minor": 0
      },
      "text/plain": [
       "Figure(layout=FigureLayout(height='420px'))"
      ]
     },
     "metadata": {},
     "output_type": "display_data"
    }
   ],
   "source": [
    "##replacing heatlayer temps again\n",
    "# Heatmap of temperature\n",
    "# Get the latitude and longitude.\n",
    "locations = city_data_df[[\"Lat\", \"Lng\"]]\n",
    "# Get the maximum temperature.\n",
    "max_temp = city_data_df[\"Max Temp\"]\n",
    "# Assign the figure variable.\n",
    "fig = gmaps.figure()\n",
    "# Assign the heatmap variable.\n",
    "heat_layer = gmaps.heatmap_layer(locations, weights=[max(temp, 0) for temp in max_temp], dissipating=False, max_intensity=300, point_radius=4)\n",
    "# Add the heatmap layer.\n",
    "fig.add_layer(heat_layer)\n",
    "# Call the figure to plot the data.\n",
    "fig"
   ]
  },
  {
   "cell_type": "code",
   "execution_count": 13,
   "id": "1eb0b2b2",
   "metadata": {},
   "outputs": [],
   "source": [
    "##replacing heatlayer temps with zoom\n",
    "# Heatmap of temperature\n",
    "# Get the latitude and longitude.\n",
    "locations = city_data_df[[\"Lat\", \"Lng\"]]\n",
    "# Get the maximum temperature.\n",
    "max_temp = city_data_df[\"Max Temp\"]\n",
    "# Assign the figure variable.\n",
    "fig = gmaps.figure()\n",
    "# Assign the heatmap variable.\n",
    "heat_layer = gmaps.heatmap_layer(locations, weights=[max(temp, 0) for temp in max_temp])\n",
    "# Add the heatmap layer.\n",
    "fig.add_layer(heat_layer)\n",
    "# Call the figure to plot the data.add zoom\n",
    "fig = gmaps.figure(center=(30.0, 31.0), zoom_level=1.5)\n"
   ]
  },
  {
   "cell_type": "code",
   "execution_count": 14,
   "id": "5e0a5183",
   "metadata": {},
   "outputs": [
    {
     "data": {
      "application/vnd.jupyter.widget-view+json": {
       "model_id": "63b0fafa855b4cb6b85a517b8f18dfd1",
       "version_major": 2,
       "version_minor": 0
      },
      "text/plain": [
       "Figure(layout=FigureLayout(height='420px'))"
      ]
     },
     "metadata": {},
     "output_type": "display_data"
    }
   ],
   "source": [
    "# Heatmap of temperature with disspiation\n",
    "# Get the latitude and longitude.\n",
    "locations = city_data_df[[\"Lat\", \"Lng\"]]\n",
    "# Get the maximum temperature.\n",
    "max_temp = city_data_df[\"Max Temp\"]\n",
    "# Assign the figure variable.\n",
    "fig = gmaps.figure()\n",
    "# Assign the heatmap variable.\n",
    "#heat_layer = gmaps.heatmap_layer(locations, weights=[max(temp, 0) for temp in max_temp])\n",
    "##and again\n",
    "heat_layer = gmaps.heatmap_layer(locations, weights=[max(temp, 0) for temp in max_temp], dissipating=False, max_intensity=300, point_radius=4)\n",
    "# Add the heatmap layer.\n",
    "fig.add_layer(heat_layer)\n",
    "# Call the figure to plot the data.\n",
    "fig"
   ]
  },
  {
   "cell_type": "code",
   "execution_count": 15,
   "id": "b54034ca",
   "metadata": {},
   "outputs": [],
   "source": [
    "#zooming\n",
    "fig = gmaps.figure(center=(30.0, 31.0), zoom_level=1.5)"
   ]
  },
  {
   "cell_type": "code",
   "execution_count": 16,
   "id": "159581ec",
   "metadata": {},
   "outputs": [
    {
     "data": {
      "application/vnd.jupyter.widget-view+json": {
       "model_id": "c8a0d3bdb17a43f6b67f775ce7b49b36",
       "version_major": 2,
       "version_minor": 0
      },
      "text/plain": [
       "Figure(layout=FigureLayout(height='420px'))"
      ]
     },
     "metadata": {},
     "output_type": "display_data"
    }
   ],
   "source": [
    "# Heatmap of percent humidity\n",
    "locations = city_data_df[[\"Lat\", \"Lng\"]]\n",
    "humidity = city_data_df[\"Humidity\"]\n",
    "fig = gmaps.figure(center=(30.0, 31.0), zoom_level=1.5)\n",
    "heat_layer = gmaps.heatmap_layer(locations, weights=humidity, dissipating=False, max_intensity=300, point_radius=4)\n",
    "\n",
    "fig.add_layer(heat_layer)\n",
    "# Call the figure to plot the data.\n",
    "fig"
   ]
  },
  {
   "cell_type": "code",
   "execution_count": 24,
   "id": "7b39c372",
   "metadata": {},
   "outputs": [
    {
     "data": {
      "application/vnd.jupyter.widget-view+json": {
       "model_id": "feb44089c0f14b5ea1c50831e5d808e1",
       "version_major": 2,
       "version_minor": 0
      },
      "text/plain": [
       "Figure(layout=FigureLayout(height='420px'))"
      ]
     },
     "metadata": {},
     "output_type": "display_data"
    }
   ],
   "source": [
    "\n",
    "# Heatmap of percent cloudiness\n",
    "locations = city_data_df[[\"Lat\", \"Lng\"]]\n",
    "clouds = city_data_df[\"Cloudiness\"]\n",
    "fig = gmaps.figure(center=(30.0, 31.0), zoom_level=1.5)\n",
    "heat_layer = gmaps.heatmap_layer(locations, weights=clouds, dissipating=False, max_intensity=300, point_radius=4)\n",
    "\n",
    "fig.add_layer(heat_layer)\n",
    "# Call the figure to plot the data.\n",
    "fig"
   ]
  },
  {
   "cell_type": "code",
   "execution_count": 25,
   "id": "be13fc96",
   "metadata": {},
   "outputs": [
    {
     "data": {
      "application/vnd.jupyter.widget-view+json": {
       "model_id": "74174de1b11b48e0ac69fd937b6f7c6b",
       "version_major": 2,
       "version_minor": 0
      },
      "text/plain": [
       "Figure(layout=FigureLayout(height='420px'))"
      ]
     },
     "metadata": {},
     "output_type": "display_data"
    }
   ],
   "source": [
    "# Heatmap of windspeed\n",
    "locations = city_data_df[[\"Lat\", \"Lng\"]]\n",
    "wind = city_data_df[\"Wind Speed\"]\n",
    "fig = gmaps.figure(center=(30.0, 31.0), zoom_level=1.5)\n",
    "heat_layer = gmaps.heatmap_layer(locations, weights=wind, dissipating=False, max_intensity=300, point_radius=4)\n",
    "\n",
    "fig.add_layer(heat_layer)\n",
    "# Call the figure to plot the data.\n",
    "fig"
   ]
  },
  {
   "cell_type": "code",
   "execution_count": 27,
   "id": "3c81390f",
   "metadata": {},
   "outputs": [
    {
     "name": "stdout",
     "output_type": "stream",
     "text": [
      "What is the minimum temperature you would like for your trip? 75\n",
      "What is the maximum temperature you would like for your trip? 90\n"
     ]
    }
   ],
   "source": [
    "# Ask the customer to add a minimum and maximum temperature value.\n",
    "min_temp = float(input(\"What is the minimum temperature you would like for your trip? \"))\n",
    "max_temp = float(input(\"What is the maximum temperature you would like for your trip? \"))\n"
   ]
  },
  {
   "cell_type": "code",
   "execution_count": 28,
   "id": "10bce5ad",
   "metadata": {},
   "outputs": [
    {
     "data": {
      "text/html": [
       "<div>\n",
       "<style scoped>\n",
       "    .dataframe tbody tr th:only-of-type {\n",
       "        vertical-align: middle;\n",
       "    }\n",
       "\n",
       "    .dataframe tbody tr th {\n",
       "        vertical-align: top;\n",
       "    }\n",
       "\n",
       "    .dataframe thead th {\n",
       "        text-align: right;\n",
       "    }\n",
       "</style>\n",
       "<table border=\"1\" class=\"dataframe\">\n",
       "  <thead>\n",
       "    <tr style=\"text-align: right;\">\n",
       "      <th></th>\n",
       "      <th>City_ID</th>\n",
       "      <th>City</th>\n",
       "      <th>Country</th>\n",
       "      <th>Date</th>\n",
       "      <th>Lat</th>\n",
       "      <th>Lng</th>\n",
       "      <th>Max Temp</th>\n",
       "      <th>Humidity</th>\n",
       "      <th>Cloudiness</th>\n",
       "      <th>Wind Speed</th>\n",
       "    </tr>\n",
       "  </thead>\n",
       "  <tbody>\n",
       "    <tr>\n",
       "      <th>2</th>\n",
       "      <td>2</td>\n",
       "      <td>Gamba</td>\n",
       "      <td>GA</td>\n",
       "      <td>2021-12-03 00:16:07</td>\n",
       "      <td>-2.6500</td>\n",
       "      <td>10.0000</td>\n",
       "      <td>77.29</td>\n",
       "      <td>86</td>\n",
       "      <td>100</td>\n",
       "      <td>3.00</td>\n",
       "    </tr>\n",
       "    <tr>\n",
       "      <th>3</th>\n",
       "      <td>3</td>\n",
       "      <td>Lamu</td>\n",
       "      <td>KE</td>\n",
       "      <td>2021-12-03 00:14:26</td>\n",
       "      <td>-2.2717</td>\n",
       "      <td>40.9020</td>\n",
       "      <td>80.82</td>\n",
       "      <td>81</td>\n",
       "      <td>21</td>\n",
       "      <td>7.54</td>\n",
       "    </tr>\n",
       "    <tr>\n",
       "      <th>4</th>\n",
       "      <td>4</td>\n",
       "      <td>Namatanai</td>\n",
       "      <td>PG</td>\n",
       "      <td>2021-12-03 00:16:08</td>\n",
       "      <td>-3.6667</td>\n",
       "      <td>152.4333</td>\n",
       "      <td>84.33</td>\n",
       "      <td>71</td>\n",
       "      <td>93</td>\n",
       "      <td>4.88</td>\n",
       "    </tr>\n",
       "    <tr>\n",
       "      <th>9</th>\n",
       "      <td>9</td>\n",
       "      <td>Vaini</td>\n",
       "      <td>TO</td>\n",
       "      <td>2021-12-03 00:16:09</td>\n",
       "      <td>-21.2000</td>\n",
       "      <td>-175.2000</td>\n",
       "      <td>84.36</td>\n",
       "      <td>79</td>\n",
       "      <td>40</td>\n",
       "      <td>11.50</td>\n",
       "    </tr>\n",
       "    <tr>\n",
       "      <th>11</th>\n",
       "      <td>11</td>\n",
       "      <td>Rikitea</td>\n",
       "      <td>PF</td>\n",
       "      <td>2021-12-03 00:16:10</td>\n",
       "      <td>-23.1203</td>\n",
       "      <td>-134.9692</td>\n",
       "      <td>76.51</td>\n",
       "      <td>74</td>\n",
       "      <td>1</td>\n",
       "      <td>15.75</td>\n",
       "    </tr>\n",
       "    <tr>\n",
       "      <th>13</th>\n",
       "      <td>13</td>\n",
       "      <td>Kapaa</td>\n",
       "      <td>US</td>\n",
       "      <td>2021-12-03 00:14:29</td>\n",
       "      <td>22.0752</td>\n",
       "      <td>-159.3190</td>\n",
       "      <td>80.92</td>\n",
       "      <td>79</td>\n",
       "      <td>40</td>\n",
       "      <td>1.01</td>\n",
       "    </tr>\n",
       "    <tr>\n",
       "      <th>14</th>\n",
       "      <td>14</td>\n",
       "      <td>Saint-Philippe</td>\n",
       "      <td>RE</td>\n",
       "      <td>2021-12-03 00:16:11</td>\n",
       "      <td>-21.3585</td>\n",
       "      <td>55.7679</td>\n",
       "      <td>76.59</td>\n",
       "      <td>87</td>\n",
       "      <td>56</td>\n",
       "      <td>11.36</td>\n",
       "    </tr>\n",
       "    <tr>\n",
       "      <th>19</th>\n",
       "      <td>19</td>\n",
       "      <td>Port Blair</td>\n",
       "      <td>IN</td>\n",
       "      <td>2021-12-03 00:16:13</td>\n",
       "      <td>11.6667</td>\n",
       "      <td>92.7500</td>\n",
       "      <td>79.11</td>\n",
       "      <td>84</td>\n",
       "      <td>87</td>\n",
       "      <td>13.80</td>\n",
       "    </tr>\n",
       "    <tr>\n",
       "      <th>20</th>\n",
       "      <td>20</td>\n",
       "      <td>Mitsamiouli</td>\n",
       "      <td>KM</td>\n",
       "      <td>2021-12-03 00:16:13</td>\n",
       "      <td>-11.3847</td>\n",
       "      <td>43.2844</td>\n",
       "      <td>79.99</td>\n",
       "      <td>77</td>\n",
       "      <td>10</td>\n",
       "      <td>11.59</td>\n",
       "    </tr>\n",
       "    <tr>\n",
       "      <th>25</th>\n",
       "      <td>25</td>\n",
       "      <td>Merauke</td>\n",
       "      <td>ID</td>\n",
       "      <td>2021-12-03 00:16:15</td>\n",
       "      <td>-8.4667</td>\n",
       "      <td>140.3333</td>\n",
       "      <td>83.71</td>\n",
       "      <td>75</td>\n",
       "      <td>94</td>\n",
       "      <td>4.41</td>\n",
       "    </tr>\n",
       "  </tbody>\n",
       "</table>\n",
       "</div>"
      ],
      "text/plain": [
       "    City_ID            City Country                 Date      Lat       Lng  \\\n",
       "2         2           Gamba      GA  2021-12-03 00:16:07  -2.6500   10.0000   \n",
       "3         3            Lamu      KE  2021-12-03 00:14:26  -2.2717   40.9020   \n",
       "4         4       Namatanai      PG  2021-12-03 00:16:08  -3.6667  152.4333   \n",
       "9         9           Vaini      TO  2021-12-03 00:16:09 -21.2000 -175.2000   \n",
       "11       11         Rikitea      PF  2021-12-03 00:16:10 -23.1203 -134.9692   \n",
       "13       13           Kapaa      US  2021-12-03 00:14:29  22.0752 -159.3190   \n",
       "14       14  Saint-Philippe      RE  2021-12-03 00:16:11 -21.3585   55.7679   \n",
       "19       19      Port Blair      IN  2021-12-03 00:16:13  11.6667   92.7500   \n",
       "20       20     Mitsamiouli      KM  2021-12-03 00:16:13 -11.3847   43.2844   \n",
       "25       25         Merauke      ID  2021-12-03 00:16:15  -8.4667  140.3333   \n",
       "\n",
       "    Max Temp  Humidity  Cloudiness  Wind Speed  \n",
       "2      77.29        86         100        3.00  \n",
       "3      80.82        81          21        7.54  \n",
       "4      84.33        71          93        4.88  \n",
       "9      84.36        79          40       11.50  \n",
       "11     76.51        74           1       15.75  \n",
       "13     80.92        79          40        1.01  \n",
       "14     76.59        87          56       11.36  \n",
       "19     79.11        84          87       13.80  \n",
       "20     79.99        77          10       11.59  \n",
       "25     83.71        75          94        4.41  "
      ]
     },
     "execution_count": 28,
     "metadata": {},
     "output_type": "execute_result"
    }
   ],
   "source": [
    "# Filter the dataset to find the cities that fit the criteria.\n",
    "preferred_cities_df = city_data_df.loc[(city_data_df[\"Max Temp\"] <= max_temp) & \\\n",
    "                                       (city_data_df[\"Max Temp\"] >= min_temp)]\n",
    "preferred_cities_df.head(10)\n"
   ]
  },
  {
   "cell_type": "code",
   "execution_count": 31,
   "id": "ed7efa21",
   "metadata": {},
   "outputs": [
    {
     "data": {
      "text/plain": [
       "City_ID       0\n",
       "City          0\n",
       "Country       0\n",
       "Date          0\n",
       "Lat           0\n",
       "Lng           0\n",
       "Max Temp      0\n",
       "Humidity      0\n",
       "Cloudiness    0\n",
       "Wind Speed    0\n",
       "dtype: int64"
      ]
     },
     "execution_count": 31,
     "metadata": {},
     "output_type": "execute_result"
    }
   ],
   "source": [
    "#check null\n",
    "preferred_cities_df.isnull().sum()"
   ]
  },
  {
   "cell_type": "code",
   "execution_count": 32,
   "id": "61c537a5",
   "metadata": {},
   "outputs": [
    {
     "data": {
      "text/plain": [
       "City_ID       66\n",
       "City          66\n",
       "Country       66\n",
       "Date          66\n",
       "Lat           66\n",
       "Lng           66\n",
       "Max Temp      66\n",
       "Humidity      66\n",
       "Cloudiness    66\n",
       "Wind Speed    66\n",
       "dtype: int64"
      ]
     },
     "execution_count": 32,
     "metadata": {},
     "output_type": "execute_result"
    }
   ],
   "source": [
    "#run count, if null values, use dropna()\n",
    "preferred_cities_df.count()"
   ]
  },
  {
   "cell_type": "code",
   "execution_count": 34,
   "id": "9f3891db",
   "metadata": {},
   "outputs": [
    {
     "data": {
      "text/html": [
       "<div>\n",
       "<style scoped>\n",
       "    .dataframe tbody tr th:only-of-type {\n",
       "        vertical-align: middle;\n",
       "    }\n",
       "\n",
       "    .dataframe tbody tr th {\n",
       "        vertical-align: top;\n",
       "    }\n",
       "\n",
       "    .dataframe thead th {\n",
       "        text-align: right;\n",
       "    }\n",
       "</style>\n",
       "<table border=\"1\" class=\"dataframe\">\n",
       "  <thead>\n",
       "    <tr style=\"text-align: right;\">\n",
       "      <th></th>\n",
       "      <th>City</th>\n",
       "      <th>Country</th>\n",
       "      <th>Max Temp</th>\n",
       "      <th>Lat</th>\n",
       "      <th>Lng</th>\n",
       "      <th>Hotel Name</th>\n",
       "    </tr>\n",
       "  </thead>\n",
       "  <tbody>\n",
       "    <tr>\n",
       "      <th>2</th>\n",
       "      <td>Gamba</td>\n",
       "      <td>GA</td>\n",
       "      <td>77.29</td>\n",
       "      <td>-2.6500</td>\n",
       "      <td>10.0000</td>\n",
       "      <td></td>\n",
       "    </tr>\n",
       "    <tr>\n",
       "      <th>3</th>\n",
       "      <td>Lamu</td>\n",
       "      <td>KE</td>\n",
       "      <td>80.82</td>\n",
       "      <td>-2.2717</td>\n",
       "      <td>40.9020</td>\n",
       "      <td></td>\n",
       "    </tr>\n",
       "    <tr>\n",
       "      <th>4</th>\n",
       "      <td>Namatanai</td>\n",
       "      <td>PG</td>\n",
       "      <td>84.33</td>\n",
       "      <td>-3.6667</td>\n",
       "      <td>152.4333</td>\n",
       "      <td></td>\n",
       "    </tr>\n",
       "    <tr>\n",
       "      <th>9</th>\n",
       "      <td>Vaini</td>\n",
       "      <td>TO</td>\n",
       "      <td>84.36</td>\n",
       "      <td>-21.2000</td>\n",
       "      <td>-175.2000</td>\n",
       "      <td></td>\n",
       "    </tr>\n",
       "    <tr>\n",
       "      <th>11</th>\n",
       "      <td>Rikitea</td>\n",
       "      <td>PF</td>\n",
       "      <td>76.51</td>\n",
       "      <td>-23.1203</td>\n",
       "      <td>-134.9692</td>\n",
       "      <td></td>\n",
       "    </tr>\n",
       "    <tr>\n",
       "      <th>13</th>\n",
       "      <td>Kapaa</td>\n",
       "      <td>US</td>\n",
       "      <td>80.92</td>\n",
       "      <td>22.0752</td>\n",
       "      <td>-159.3190</td>\n",
       "      <td></td>\n",
       "    </tr>\n",
       "    <tr>\n",
       "      <th>14</th>\n",
       "      <td>Saint-Philippe</td>\n",
       "      <td>RE</td>\n",
       "      <td>76.59</td>\n",
       "      <td>-21.3585</td>\n",
       "      <td>55.7679</td>\n",
       "      <td></td>\n",
       "    </tr>\n",
       "    <tr>\n",
       "      <th>19</th>\n",
       "      <td>Port Blair</td>\n",
       "      <td>IN</td>\n",
       "      <td>79.11</td>\n",
       "      <td>11.6667</td>\n",
       "      <td>92.7500</td>\n",
       "      <td></td>\n",
       "    </tr>\n",
       "    <tr>\n",
       "      <th>20</th>\n",
       "      <td>Mitsamiouli</td>\n",
       "      <td>KM</td>\n",
       "      <td>79.99</td>\n",
       "      <td>-11.3847</td>\n",
       "      <td>43.2844</td>\n",
       "      <td></td>\n",
       "    </tr>\n",
       "    <tr>\n",
       "      <th>25</th>\n",
       "      <td>Merauke</td>\n",
       "      <td>ID</td>\n",
       "      <td>83.71</td>\n",
       "      <td>-8.4667</td>\n",
       "      <td>140.3333</td>\n",
       "      <td></td>\n",
       "    </tr>\n",
       "  </tbody>\n",
       "</table>\n",
       "</div>"
      ],
      "text/plain": [
       "              City Country  Max Temp      Lat       Lng Hotel Name\n",
       "2            Gamba      GA     77.29  -2.6500   10.0000           \n",
       "3             Lamu      KE     80.82  -2.2717   40.9020           \n",
       "4        Namatanai      PG     84.33  -3.6667  152.4333           \n",
       "9            Vaini      TO     84.36 -21.2000 -175.2000           \n",
       "11         Rikitea      PF     76.51 -23.1203 -134.9692           \n",
       "13           Kapaa      US     80.92  22.0752 -159.3190           \n",
       "14  Saint-Philippe      RE     76.59 -21.3585   55.7679           \n",
       "19      Port Blair      IN     79.11  11.6667   92.7500           \n",
       "20     Mitsamiouli      KM     79.99 -11.3847   43.2844           \n",
       "25         Merauke      ID     83.71  -8.4667  140.3333           "
      ]
     },
     "execution_count": 34,
     "metadata": {},
     "output_type": "execute_result"
    }
   ],
   "source": [
    "###make copy of preferred cities df and name it hotel df so custoomers can loop \n",
    "# Create DataFrame called hotel_df to store hotel names along with city, country, max temp, and coordinates.\n",
    "hotel_df = preferred_cities_df[[\"City\", \"Country\", \"Max Temp\", \"Lat\", \"Lng\"]].copy()\n",
    "hotel_df[\"Hotel Name\"] = \"\"\n",
    "hotel_df.head(10)\n"
   ]
  },
  {
   "cell_type": "code",
   "execution_count": 50,
   "id": "e5e2948a",
   "metadata": {},
   "outputs": [],
   "source": [
    "# Set parameters to search for a hotel.\n",
    "params = {\n",
    "    \"radius\": 5000,\n",
    "    \"type\": \"lodging\",\n",
    "    \"key\": g_key\n",
    "}"
   ]
  },
  {
   "cell_type": "code",
   "execution_count": 51,
   "id": "be6c124d",
   "metadata": {},
   "outputs": [],
   "source": [
    "# Iterate through the DataFrame.\n",
    "for index, row in hotel_df.iterrows():\n",
    "    # Get the latitude and longitude.\n",
    "    lat = row[\"Lat\"]\n",
    "    lng = row[\"Lng\"]\n",
    "\n",
    "    # Add the latitude and longitude to location key for the params dictionary.\n",
    "    params[\"location\"] = f\"{lat},{lng}\"\n",
    "\n",
    "    # Use the search term: \"lodging\" and our latitude and longitude.\n",
    "    base_url = \"https://maps.googleapis.com/maps/api/place/nearbysearch/json\"\n",
    "    # Make request and get the JSON data from the search.\n",
    "    hotels = requests.get(base_url, params=params).json()\n",
    "    # Grab the first hotel from the results and store the name.\n",
    "try:\n",
    "    hotel_df.loc[index, \"Hotel Name\"] = hotels[\"results\"][0][\"name\"]\n",
    "except (IndexError, IndentationError):\n",
    "    print(\"Hotel not found... skipping.\")\n",
    "    "
   ]
  },
  {
   "cell_type": "code",
   "execution_count": 53,
   "id": "27dbf575",
   "metadata": {},
   "outputs": [
    {
     "data": {
      "text/html": [
       "<div>\n",
       "<style scoped>\n",
       "    .dataframe tbody tr th:only-of-type {\n",
       "        vertical-align: middle;\n",
       "    }\n",
       "\n",
       "    .dataframe tbody tr th {\n",
       "        vertical-align: top;\n",
       "    }\n",
       "\n",
       "    .dataframe thead th {\n",
       "        text-align: right;\n",
       "    }\n",
       "</style>\n",
       "<table border=\"1\" class=\"dataframe\">\n",
       "  <thead>\n",
       "    <tr style=\"text-align: right;\">\n",
       "      <th></th>\n",
       "      <th>City</th>\n",
       "      <th>Country</th>\n",
       "      <th>Max Temp</th>\n",
       "      <th>Lat</th>\n",
       "      <th>Lng</th>\n",
       "      <th>Hotel Name</th>\n",
       "    </tr>\n",
       "  </thead>\n",
       "  <tbody>\n",
       "    <tr>\n",
       "      <th>2</th>\n",
       "      <td>Gamba</td>\n",
       "      <td>GA</td>\n",
       "      <td>77.29</td>\n",
       "      <td>-2.6500</td>\n",
       "      <td>10.0000</td>\n",
       "      <td></td>\n",
       "    </tr>\n",
       "    <tr>\n",
       "      <th>3</th>\n",
       "      <td>Lamu</td>\n",
       "      <td>KE</td>\n",
       "      <td>80.82</td>\n",
       "      <td>-2.2717</td>\n",
       "      <td>40.9020</td>\n",
       "      <td></td>\n",
       "    </tr>\n",
       "    <tr>\n",
       "      <th>4</th>\n",
       "      <td>Namatanai</td>\n",
       "      <td>PG</td>\n",
       "      <td>84.33</td>\n",
       "      <td>-3.6667</td>\n",
       "      <td>152.4333</td>\n",
       "      <td></td>\n",
       "    </tr>\n",
       "    <tr>\n",
       "      <th>9</th>\n",
       "      <td>Vaini</td>\n",
       "      <td>TO</td>\n",
       "      <td>84.36</td>\n",
       "      <td>-21.2000</td>\n",
       "      <td>-175.2000</td>\n",
       "      <td></td>\n",
       "    </tr>\n",
       "    <tr>\n",
       "      <th>11</th>\n",
       "      <td>Rikitea</td>\n",
       "      <td>PF</td>\n",
       "      <td>76.51</td>\n",
       "      <td>-23.1203</td>\n",
       "      <td>-134.9692</td>\n",
       "      <td></td>\n",
       "    </tr>\n",
       "    <tr>\n",
       "      <th>...</th>\n",
       "      <td>...</td>\n",
       "      <td>...</td>\n",
       "      <td>...</td>\n",
       "      <td>...</td>\n",
       "      <td>...</td>\n",
       "      <td>...</td>\n",
       "    </tr>\n",
       "    <tr>\n",
       "      <th>205</th>\n",
       "      <td>Nortelandia</td>\n",
       "      <td>BR</td>\n",
       "      <td>75.81</td>\n",
       "      <td>-14.4547</td>\n",
       "      <td>-56.8028</td>\n",
       "      <td></td>\n",
       "    </tr>\n",
       "    <tr>\n",
       "      <th>214</th>\n",
       "      <td>Hilo</td>\n",
       "      <td>US</td>\n",
       "      <td>82.13</td>\n",
       "      <td>19.7297</td>\n",
       "      <td>-155.0900</td>\n",
       "      <td></td>\n",
       "    </tr>\n",
       "    <tr>\n",
       "      <th>220</th>\n",
       "      <td>Palu</td>\n",
       "      <td>ID</td>\n",
       "      <td>84.79</td>\n",
       "      <td>-0.8917</td>\n",
       "      <td>119.8707</td>\n",
       "      <td></td>\n",
       "    </tr>\n",
       "    <tr>\n",
       "      <th>221</th>\n",
       "      <td>Mogadishu</td>\n",
       "      <td>SO</td>\n",
       "      <td>79.77</td>\n",
       "      <td>2.0371</td>\n",
       "      <td>45.3438</td>\n",
       "      <td></td>\n",
       "    </tr>\n",
       "    <tr>\n",
       "      <th>226</th>\n",
       "      <td>Bonito</td>\n",
       "      <td>BR</td>\n",
       "      <td>75.42</td>\n",
       "      <td>-21.1211</td>\n",
       "      <td>-56.4819</td>\n",
       "      <td>Marruá Hotel</td>\n",
       "    </tr>\n",
       "  </tbody>\n",
       "</table>\n",
       "<p>66 rows × 6 columns</p>\n",
       "</div>"
      ],
      "text/plain": [
       "            City Country  Max Temp      Lat       Lng    Hotel Name\n",
       "2          Gamba      GA     77.29  -2.6500   10.0000              \n",
       "3           Lamu      KE     80.82  -2.2717   40.9020              \n",
       "4      Namatanai      PG     84.33  -3.6667  152.4333              \n",
       "9          Vaini      TO     84.36 -21.2000 -175.2000              \n",
       "11       Rikitea      PF     76.51 -23.1203 -134.9692              \n",
       "..           ...     ...       ...      ...       ...           ...\n",
       "205  Nortelandia      BR     75.81 -14.4547  -56.8028              \n",
       "214         Hilo      US     82.13  19.7297 -155.0900              \n",
       "220         Palu      ID     84.79  -0.8917  119.8707              \n",
       "221    Mogadishu      SO     79.77   2.0371   45.3438              \n",
       "226       Bonito      BR     75.42 -21.1211  -56.4819  Marruá Hotel\n",
       "\n",
       "[66 rows x 6 columns]"
      ]
     },
     "execution_count": 53,
     "metadata": {},
     "output_type": "execute_result"
    }
   ],
   "source": [
    "hotel_df"
   ]
  },
  {
   "cell_type": "code",
   "execution_count": 55,
   "id": "35b420a6",
   "metadata": {},
   "outputs": [
    {
     "data": {
      "application/vnd.jupyter.widget-view+json": {
       "model_id": "e54ed1cf58b84af098b37cdb8df6df27",
       "version_major": 2,
       "version_minor": 0
      },
      "text/plain": [
       "Figure(layout=FigureLayout(height='420px'))"
      ]
     },
     "metadata": {},
     "output_type": "display_data"
    }
   ],
   "source": [
    "# Add a heatmap of temperature for the vacation spots.for new hotel df\n",
    "locations = hotel_df[[\"Lat\", \"Lng\"]]\n",
    "max_temp = hotel_df[\"Max Temp\"]\n",
    "fig = gmaps.figure(center=(30.0, 31.0), zoom_level=1.5)\n",
    "heat_layer = gmaps.heatmap_layer(locations, weights=max_temp, dissipating=False,\n",
    "             max_intensity=300, point_radius=4)\n",
    "#add markers\n",
    "marker_layer = gmaps.marker_layer(locations)\n",
    "fig.add_layer(heat_layer)\n",
    "fig.add_layer(marker_layer)\n",
    "# Call the figure to plot the data.\n",
    "fig"
   ]
  },
  {
   "cell_type": "code",
   "execution_count": 59,
   "id": "c3899798",
   "metadata": {},
   "outputs": [],
   "source": [
    "info_box_template = \"\"\"\n",
    "<dl>\n",
    "<dt>Hotel Name</dt><dd>{Hotel Name}</dd>\n",
    "<dt>City</dt><dd>{City}</dd>\n",
    "<dt>Country</dt><dd>{Country}</dd>\n",
    "<dt>Max Temp</dt><dd>{Max Temp} °F</dd>\n",
    "</dl>\n",
    "\"\"\""
   ]
  },
  {
   "cell_type": "code",
   "execution_count": 60,
   "id": "baf39516",
   "metadata": {},
   "outputs": [],
   "source": [
    "# Store the DataFrame Row.\n",
    "hotel_info = [info_box_template.format(**row) for index, row in hotel_df.iterrows()]\n"
   ]
  },
  {
   "cell_type": "code",
   "execution_count": 61,
   "id": "c64bfff4",
   "metadata": {},
   "outputs": [
    {
     "data": {
      "application/vnd.jupyter.widget-view+json": {
       "model_id": "72f22e5b2b344373b03c1ea291f9a08b",
       "version_major": 2,
       "version_minor": 0
      },
      "text/plain": [
       "Figure(layout=FigureLayout(height='420px'))"
      ]
     },
     "metadata": {},
     "output_type": "display_data"
    }
   ],
   "source": [
    "# Add a heatmap of temperature for the vacation spots and a pop-up marker for each city.\n",
    "locations = hotel_df[[\"Lat\", \"Lng\"]]\n",
    "max_temp = hotel_df[\"Max Temp\"]\n",
    "fig = gmaps.figure(center=(30.0, 31.0), zoom_level=1.5)\n",
    "heat_layer = gmaps.heatmap_layer(locations, weights=max_temp,dissipating=False,\n",
    "             max_intensity=300, point_radius=4)\n",
    "marker_layer = gmaps.marker_layer(locations, info_box_content=hotel_info)\n",
    "fig.add_layer(heat_layer)\n",
    "fig.add_layer(marker_layer)\n",
    "\n",
    "# Call the figure to plot the data.\n",
    "fig"
   ]
  },
  {
   "cell_type": "code",
   "execution_count": null,
   "id": "ff6082af",
   "metadata": {},
   "outputs": [],
   "source": []
  },
  {
   "cell_type": "code",
   "execution_count": null,
   "id": "18a4facb",
   "metadata": {},
   "outputs": [],
   "source": []
  }
 ],
 "metadata": {
  "kernelspec": {
   "display_name": "PythonData",
   "language": "python",
   "name": "pythondata"
  },
  "language_info": {
   "codemirror_mode": {
    "name": "ipython",
    "version": 3
   },
   "file_extension": ".py",
   "mimetype": "text/x-python",
   "name": "python",
   "nbconvert_exporter": "python",
   "pygments_lexer": "ipython3",
   "version": "3.8.8"
  }
 },
 "nbformat": 4,
 "nbformat_minor": 5
}
